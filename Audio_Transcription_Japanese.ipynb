{
  "nbformat": 4,
  "nbformat_minor": 0,
  "metadata": {
    "colab": {
      "provenance": [],
      "mount_file_id": "1C_7BJsOJxq_nemGVSNLw9YZOK_yhsxqk",
      "authorship_tag": "ABX9TyPJCBYEElbO0dRMUdTd2ooI"
    },
    "kernelspec": {
      "name": "python3",
      "display_name": "Python 3"
    },
    "language_info": {
      "name": "python"
    }
  },
  "cells": [
    {
      "cell_type": "markdown",
      "source": [
        "Stages:\n",
        "- .mp3 --> .WAV --> String/Text --> .txt"
      ],
      "metadata": {
        "id": "Ejo8EC1TielJ"
      }
    },
    {
      "cell_type": "code",
      "source": [
        "# !pip install pytube"
      ],
      "metadata": {
        "colab": {
          "base_uri": "https://localhost:8080/"
        },
        "id": "iidyPPqFh9R_",
        "outputId": "5f41e67d-60d5-40da-88df-59638887a41b"
      },
      "execution_count": 15,
      "outputs": [
        {
          "output_type": "stream",
          "name": "stdout",
          "text": [
            "Collecting pytube\n",
            "  Downloading pytube-15.0.0-py3-none-any.whl.metadata (5.0 kB)\n",
            "Downloading pytube-15.0.0-py3-none-any.whl (57 kB)\n",
            "\u001b[?25l   \u001b[90m━━━━━━━━━━━━━━━━━━━━━━━━━━━━━━━━━━━━━━━━\u001b[0m \u001b[32m0.0/57.6 kB\u001b[0m \u001b[31m?\u001b[0m eta \u001b[36m-:--:--\u001b[0m\r\u001b[2K   \u001b[91m━━━━━━━━━━━━━━━━━━━━━━━━━━━━\u001b[0m\u001b[90m╺\u001b[0m\u001b[90m━━━━━━━━━━━\u001b[0m \u001b[32m41.0/57.6 kB\u001b[0m \u001b[31m971.8 kB/s\u001b[0m eta \u001b[36m0:00:01\u001b[0m\r\u001b[2K   \u001b[90m━━━━━━━━━━━━━━━━━━━━━━━━━━━━━━━━━━━━━━━━\u001b[0m \u001b[32m57.6/57.6 kB\u001b[0m \u001b[31m931.5 kB/s\u001b[0m eta \u001b[36m0:00:00\u001b[0m\n",
            "\u001b[?25hInstalling collected packages: pytube\n",
            "Successfully installed pytube-15.0.0\n"
          ]
        }
      ]
    },
    {
      "cell_type": "markdown",
      "source": [
        "# AUDIO ONLY"
      ],
      "metadata": {
        "id": "9Bl44H7kcqxm"
      }
    },
    {
      "cell_type": "code",
      "source": [
        "!pip install pydub\n",
        "!pip install SpeechRecognition\n",
        "!apt-get install ffmpeg"
      ],
      "metadata": {
        "colab": {
          "base_uri": "https://localhost:8080/"
        },
        "id": "Bf9hrFnkcsZk",
        "outputId": "935d655b-4589-4498-8e41-339e87909071"
      },
      "execution_count": 1,
      "outputs": [
        {
          "output_type": "stream",
          "name": "stdout",
          "text": [
            "Collecting pydub\n",
            "  Downloading pydub-0.25.1-py2.py3-none-any.whl.metadata (1.4 kB)\n",
            "Downloading pydub-0.25.1-py2.py3-none-any.whl (32 kB)\n",
            "Installing collected packages: pydub\n",
            "Successfully installed pydub-0.25.1\n",
            "Collecting SpeechRecognition\n",
            "  Downloading SpeechRecognition-3.10.4-py2.py3-none-any.whl.metadata (28 kB)\n",
            "Requirement already satisfied: requests>=2.26.0 in /usr/local/lib/python3.10/dist-packages (from SpeechRecognition) (2.32.3)\n",
            "Requirement already satisfied: typing-extensions in /usr/local/lib/python3.10/dist-packages (from SpeechRecognition) (4.12.2)\n",
            "Requirement already satisfied: charset-normalizer<4,>=2 in /usr/local/lib/python3.10/dist-packages (from requests>=2.26.0->SpeechRecognition) (3.3.2)\n",
            "Requirement already satisfied: idna<4,>=2.5 in /usr/local/lib/python3.10/dist-packages (from requests>=2.26.0->SpeechRecognition) (3.10)\n",
            "Requirement already satisfied: urllib3<3,>=1.21.1 in /usr/local/lib/python3.10/dist-packages (from requests>=2.26.0->SpeechRecognition) (2.2.3)\n",
            "Requirement already satisfied: certifi>=2017.4.17 in /usr/local/lib/python3.10/dist-packages (from requests>=2.26.0->SpeechRecognition) (2024.8.30)\n",
            "Downloading SpeechRecognition-3.10.4-py2.py3-none-any.whl (32.8 MB)\n",
            "\u001b[2K   \u001b[90m━━━━━━━━━━━━━━━━━━━━━━━━━━━━━━━━━━━━━━━━\u001b[0m \u001b[32m32.8/32.8 MB\u001b[0m \u001b[31m25.4 MB/s\u001b[0m eta \u001b[36m0:00:00\u001b[0m\n",
            "\u001b[?25hInstalling collected packages: SpeechRecognition\n",
            "Successfully installed SpeechRecognition-3.10.4\n",
            "Reading package lists... Done\n",
            "Building dependency tree... Done\n",
            "Reading state information... Done\n",
            "ffmpeg is already the newest version (7:4.4.2-0ubuntu0.22.04.1).\n",
            "0 upgraded, 0 newly installed, 0 to remove and 49 not upgraded.\n"
          ]
        }
      ]
    },
    {
      "cell_type": "code",
      "source": [
        "from pydub import AudioSegment\n",
        "import speech_recognition as sr"
      ],
      "metadata": {
        "id": "yEPoMQ36ePWz"
      },
      "execution_count": 2,
      "outputs": []
    },
    {
      "cell_type": "code",
      "source": [
        "# .mp3 to .WAV\n",
        "def convert_mp3_to_wav(mp3_file, wav_file):\n",
        "    audio = AudioSegment.from_mp3(mp3_file) # load mp3 file\n",
        "    audio.export(wav_file, format=\"wav\") # export to wav format\n",
        "    print(f\"Converted {mp3_file} --> {wav_file}\")"
      ],
      "metadata": {
        "id": "I9mzCbMncp5F"
      },
      "execution_count": 11,
      "outputs": []
    },
    {
      "cell_type": "code",
      "source": [
        "def transcribe_audio(audio_file): # WAV audio\n",
        "    recognizer = sr.Recognizer()\n",
        "    with sr.AudioFile(audio_file) as source: # load audio data\n",
        "        audio_data = recognizer.record(source)  # Read audio file\n",
        "    # Recognize the speech in JP\n",
        "    try:\n",
        "        transcription = recognizer.recognize_google(audio_data, language='ja-JP')\n",
        "        print(\"Transcription:\")\n",
        "        print(transcription)\n",
        "        return transcription\n",
        "    except sr.UnknownValueError:\n",
        "        print(\"Could not understand audio\")\n",
        "    except sr.RequestError as e:\n",
        "        print(f\"Could not request results from Google Web Speech API; {e}\")"
      ],
      "metadata": {
        "id": "SoeDxmCFeYKT"
      },
      "execution_count": 12,
      "outputs": []
    },
    {
      "cell_type": "code",
      "source": [
        "def save_transcription_to_txt(transcription, output_txt_file):\n",
        "    if transcription:\n",
        "        with open(output_txt_file, 'w') as f:\n",
        "            f.write(transcription)\n",
        "        print(f\"Transcription saved to {output_txt_file}\")\n",
        "    else:\n",
        "        print(\"No transcription to save.\")"
      ],
      "metadata": {
        "id": "lCZSVlDHfsCd"
      },
      "execution_count": 13,
      "outputs": []
    },
    {
      "cell_type": "code",
      "source": [
        "mp3_file = \"/content/drive/MyDrive/Colab Notebooks/y2mate.com - 齋藤飛鳥警棒振り回しノリノリダンス警備員制服姿を披露　　ディップバイトル新CM警備員パート篇.mp3\"  # Replace with your actual file name\n",
        "wav_file = \"converted_file_test.wav\"\n",
        "output_txt_file = \"transcription_result.txt\"\n",
        "\n",
        "convert_mp3_to_wav(mp3_file, wav_file)\n",
        "transcription = transcribe_audio(wav_file)\n",
        "save_transcription_to_txt(transcription, output_txt_file)"
      ],
      "metadata": {
        "colab": {
          "base_uri": "https://localhost:8080/"
        },
        "id": "Sd5FeqvaemJz",
        "outputId": "3d402d25-dc05-4467-ab0a-d394db06c685"
      },
      "execution_count": 14,
      "outputs": [
        {
          "output_type": "stream",
          "name": "stdout",
          "text": [
            "Converted /content/drive/MyDrive/Colab Notebooks/y2mate.com - 齋藤飛鳥警棒振り回しノリノリダンス警備員制服姿を披露　　ディップバイトル新CM警備員パート篇.mp3 --> converted_file_test.wav\n",
            "Transcription:\n",
            "バイトするならバイトル アプリ 交通性にも ダンシング Hey Google パートの種類もオフです はいはい パトパトパトのタイトル パトパトパトパトパトパト 探しもの バイトレ だ\n",
            "Transcription saved to transcription_result.txt\n"
          ]
        }
      ]
    }
  ]
}